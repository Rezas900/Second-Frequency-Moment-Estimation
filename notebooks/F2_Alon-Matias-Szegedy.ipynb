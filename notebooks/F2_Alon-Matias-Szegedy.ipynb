{
 "cells": [
  {
   "cell_type": "code",
   "id": "132831b301d24857",
   "metadata": {
    "ExecuteTime": {
     "end_time": "2025-08-22T20:09:30.221147Z",
     "start_time": "2025-08-22T20:09:28.096500Z"
    }
   },
   "source": [
    "import hashlib\n",
    "import os\n",
    "import secrets\n",
    "import warnings\n",
    "from tabulate import tabulate\n",
    "from collections import defaultdict\n",
    "import galois\n",
    "\n",
    "warnings.filterwarnings(\"ignore\")"
   ],
   "outputs": [],
   "execution_count": 1
  },
  {
   "cell_type": "markdown",
   "id": "a97db0677eea9103",
   "metadata": {},
   "source": [
    "## Explanation of the `StatelessConsistentHash` Class\n",
    "\n",
    "This Python class implements a hash function that consistently maps any given input item to one of two values, `+1` or `-1`. It is designed to simulate a **fully independent** random choice for each unique item while being **stateless** (requiring no memory of past items) and **consistent** (always producing the same output for the same input).\n",
    "\n",
    "---\n",
    "\n",
    "### 1. Initialization (`__init__` method)\n",
    "\n",
    "The setup for the hash function happens when an object of the class is created.\n",
    "\n",
    "```python\n",
    "def __init__(self):\n",
    "    \"\"\"\n",
    "    In os.urandom, the number of bytes should be chosen to be 16 or higher because eight is obsolete.\n",
    "    \"\"\"\n",
    "    self.seed = os.urandom(16)\n",
    "```\n",
    "\n",
    "* **`self.seed = os.urandom(16)`**: This is the most critical part of the setup.\n",
    "    * `os.urandom(16)` generates 16 bytes of cryptographically strong random data provided by the operating system. This is not pseudo-random; it's suitable for security-sensitive applications.\n",
    "    * This **seed** is generated **once** per object instance and stored. Its purpose is to make this specific hash function unique. Two different `StatelessConsistentHash` objects will have different seeds, and therefore, will produce different hash values for the same input item.\n",
    "\n",
    "---\n",
    "\n",
    "### 2. The Hashing Process (`hash` method)\n",
    "\n",
    "This method takes an `item` and returns its corresponding `+1` or `-1` value. The process can be broken down into four main steps.\n",
    "\n",
    "#### Step 1: Input Serialization\n",
    "\n",
    "```python\n",
    "item_bytes = str(item).encode('utf-8')\n",
    "```\n",
    "\n",
    "The input `item` is first converted into a standardized byte sequence. This ensures that any type of input (integer, string, etc.) is handled consistently before being passed to the cryptographic hash function.\n",
    "\n",
    "#### Step 2: Hashing with SHA-256\n",
    "\n",
    "```python\n",
    "hasher = hashlib.sha256()\n",
    "hasher.update(self.seed)\n",
    "hasher.update(item_bytes)\n",
    "```\n",
    "\n",
    "* **`hashlib.sha256()`**: This initializes a standard, secure cryptographic hash object.\n",
    "* **Avalanche Effect**: SHA-256 guarantees that a tiny change in the input (even one bit) will result in a completely different and unpredictable output hash. This property is what allows us to treat the output as random.\n",
    "* **`hasher.update(...)`**: The `update` method mixes data into the hash.\n",
    "    1.  First, the object's unique `self.seed` is added.\n",
    "    2.  Second, the `item_bytes` are added.\n",
    "\n",
    "    By combining a unique seed with the item, we ensure that the final hash is a unique and deterministic product of both the object instance and the specific item.\n",
    "\n",
    "#### Step 3: Conversion to an Integer\n",
    "\n",
    "```python\n",
    "hash_digest = hasher.digest()\n",
    "hash_int = int.from_bytes(hash_digest, 'big')\n",
    "```\n",
    "\n",
    "* **`hasher.digest()`**: This returns the final hash value as a 32-byte string (for SHA-256).\n",
    "* **`int.from_bytes(...)`**: This standard method converts the raw byte string into a single, very large integer. This makes it easy to perform mathematical operations on the hash result.\n",
    "\n",
    "#### Step 4: Mapping to $\\{-1, +1\\}$\n",
    "\n",
    "```python\n",
    "if hash_int % 2 == 0:\n",
    "    return 1\n",
    "else:\n",
    "    return -1\n",
    "```\n",
    "\n",
    "This is the final step where the large random integer is mapped to either `+1` or `-1`.\n",
    "* The logic `hash_int % 2` simply checks the last bit of the integer to see if it's even or odd.\n",
    "* Because the output of SHA-256 is uniformly distributed, its last bit is also expected to be uniformly random, with a 50% chance of being 0 or 1. This makes it an excellent and simple way to derive a fair coin flip from the hash.\n",
    "\n",
    "---"
   ]
  },
  {
   "cell_type": "code",
   "id": "7408dbb288aa39c2",
   "metadata": {
    "ExecuteTime": {
     "end_time": "2025-08-22T20:09:30.252915Z",
     "start_time": "2025-08-22T20:09:30.238791Z"
    }
   },
   "source": [
    "class StatelessConsistentHash:\n",
    "    def __init__(self):\n",
    "\n",
    "        \"\"\"\n",
    "        In os.urandom, the number of bytes should be chosen to be 16 or higher because eight is obsolete.\n",
    "        \"\"\"\n",
    "        self.seed = os.urandom(16)\n",
    "\n",
    "    def hash(self, item):\n",
    "\n",
    "        item_bytes = str(item).encode('utf-8')\n",
    "\n",
    "        hasher = hashlib.sha256()\n",
    "        hasher.update(self.seed)\n",
    "        hasher.update(item_bytes)\n",
    "\n",
    "        \"\"\"\n",
    "        The sha256 protocol guarantees that small changes in the input cause large changes in the output, and hence, given this assumption, the bits can be considered completely independent and random.\n",
    "        \"\"\"\n",
    "        \"\"\"\n",
    "        It guarantees that the \"hasher\" object produces unique results. That is, on each system, the output is different and completely random, depending on the seed.\n",
    "        \"\"\"\n",
    "\n",
    "        hash_digest = hasher.digest()\n",
    "\n",
    "        hash_int = int.from_bytes(hash_digest, 'big')\n",
    "\n",
    "        if hash_int % 2 == 0:\n",
    "            return 1\n",
    "        else:\n",
    "            return -1"
   ],
   "outputs": [],
   "execution_count": 2
  },
  {
   "cell_type": "markdown",
   "id": "c11942614a3a48c8",
   "metadata": {},
   "source": [
    "## Mathematical Concept of Generating 4-wise Independent Bits\n",
    "\n",
    "Assume we want to generate $n$ 4-wise independent values.\n",
    "\n",
    "**1. Choose a Finite Field:**\n",
    "First, we choose a prime number $p$ such that it is greater than or equal to $n$ ($p \\ge n$). All of our calculations will be performed in the finite field $GF(p)$. This means all addition and multiplication operations are done modulo $p$ (modular arithmetic).\n",
    "\n",
    "**2. Create a Random Polynomial:**\n",
    "We construct a degree-3 polynomial as follows:\n",
    "$$\n",
    "P(x) = a_3x^3 + a_2x^2 + a_1x + a_0 \\pmod{p}\n",
    "$$\n",
    "The \"randomness\" of this polynomial means that its coefficients, namely $a_0, a_1, a_2, a_3$, are chosen randomly and uniformly from the set $\\{0, 1, ..., p-1\\}$. These four coefficients are our **\"seed\"**.\n",
    "\n",
    "**3. Generate the Sequence of Values:**\n",
    "To generate the $i$-th value of the sequence (which we'll call $h(i)$), we simply evaluate the polynomial $P(x)$ at the point $x=i$:\n",
    "$$\n",
    "h(i) = P(i) \\pmod{p}\n",
    "$$\n",
    "We do this for $i$ from $1$ to $n$. This sequence $h(1), h(2), ..., h(n)$ has the property of being 4-wise independent.\n",
    "\n",
    "---\n",
    "\n",
    "### Why This Method Works\n",
    "\n",
    "A fundamental property in mathematics states that a non-zero polynomial of degree $d$ has at most $d$ roots. An important consequence of this property is:\n",
    "> If we know the values of a degree-3 polynomial at 4 arbitrary points (e.g., $i, j, k, l$), these 4 values are completely independent of each other. Knowing the values of $P(i), P(j), P(k)$ gives us no information about the value of $P(l)$, because for any arbitrary value $y$ for $P(l)$, there is exactly one degree-3 polynomial that passes through these four points.\n",
    "\n",
    "This guarantees that any group of four generated values is completely independent.\n",
    "\n",
    "---\n",
    "\n",
    "### Converting the Output to Bits\n",
    "\n",
    "The values $h(i)$ that we generated are numbers in the range $[0, p-1]$. To convert them into bits (or into values $\\sigma \\in \\{+1, -1\\}$), we can use a simple rule.\n",
    "\n",
    "* **For bits $\\{0, 1\\}$**: If $h(i)$ is even, the output is 0; if it's odd, the output is 1.\n",
    "* **For values $\\{-1, +1\\}$**: If $h(i) < p/2$, the output is +1; otherwise, the output is -1."
   ]
  },
  {
   "cell_type": "code",
   "id": "e1b358370f548c9d",
   "metadata": {
    "ExecuteTime": {
     "end_time": "2025-08-22T20:09:30.284722Z",
     "start_time": "2025-08-22T20:09:30.252915Z"
    }
   },
   "source": [
    "\n",
    "class FourWiseHashFunction:\n",
    "\n",
    "    def __init__(self, universe_size):\n",
    "        \"\"\"\n",
    "        p must be the first prime number greater than or equal to universe size\n",
    "        \"\"\"\n",
    "        self.p = galois.next_prime(universe_size)\n",
    "        self.GF = galois.GF(self.p)\n",
    "\n",
    "        self.a3 = self.GF.Random()  # Generating random coefficients on a finite field GF\n",
    "        self.a2 = self.GF.Random()\n",
    "        self.a1 = self.GF.Random()\n",
    "        self.a0 = self.GF.Random()\n",
    "        print(f\" finit field GF , a0 = {self.a0}. a1 = {self.a1}, a2 = {self.a2}. a3 = {self.a3}\")\n",
    "\n",
    "    def hash(self, item):\n",
    "        x = self.GF(item)\n",
    "        evaluation = self.a0 + x * (self.a1 + x * (self.a2 + x * self.a3))\n",
    "        return 1 if int(evaluation) < self.p / 2 else -1\n"
   ],
   "outputs": [],
   "execution_count": 3
  },
  {
   "cell_type": "markdown",
   "id": "7f4e58d84c9e433d",
   "metadata": {},
   "source": [
    "## Explanation of the Pairwise Independent Value Generation Code\n",
    "\n",
    "This Python code snippet implements a hash function named `pairwise_hash`, which generates a sequence of **Pairwise Independent** values. The algorithm's core logic is based on expanding a small, random \"seed\" using the XOR operation.\n",
    "\n",
    "---\n",
    "\n",
    "### 1. The Random Seed\n",
    "\n",
    "* **`k = 10`**: This variable sets the length of the initial seed. With a seed of $k=10$ bits, we can generate up to $2^{10}-1 = 1023$ pairwise independent values.\n",
    "* **`seed = [...]`**: This line creates a list of `k` random bits (0 or 1). Using the `secrets` module ensures that these initial bits are of high statistical quality.\n",
    "\n",
    "---\n",
    "\n",
    "### 2. The Main `pairwise_hash` Function\n",
    "\n",
    "This function takes an index `i` and returns the corresponding sigma value ($\\sigma_i$) based on the seed.\n",
    "\n",
    "* **Input Validation**:\n",
    "    First, the function checks if the input index `i` is within the valid range. The valid range for `i` is $1 \\le i \\le 2^k - 1$. If `i` is outside this range, a `ValueError` is raised.\n",
    "\n",
    "* **Index-to-Seed Mapping**:\n",
    "    The line `binary_i = bin(i)[2:].zfill(k)` converts the index `i` into a k-length binary string. This string determines which of the `seed` bits will participate in the XOR operation.\n",
    "\n",
    "* **XOR Operation**:\n",
    "    The `for` loop iterates over the binary representation of `i`. If the `j`-th bit of this string is `'1'`, then the `j`-th bit of the `seed` is XORed with the current `output_bit`. The final value is the result of the operation $s_{j_1} \\oplus s_{j_2} \\oplus \\dots$, where $j_x$ are the indices of the '1' bits in the binary representation of `i`.\n",
    "\n",
    "* **Final Output**:\n",
    "    Finally, the result of the XOR operation, which is a single bit (0 or 1), is mapped to the values $\\{-1, +1\\}$. If `output_bit` is 1, the output will be 1; otherwise, it is -1.\n"
   ]
  },
  {
   "cell_type": "code",
   "id": "fb925e328eb64cfc",
   "metadata": {
    "ExecuteTime": {
     "end_time": "2025-08-22T20:09:30.300626Z",
     "start_time": "2025-08-22T20:09:30.284722Z"
    }
   },
   "source": [
    "k = 7\n",
    "seed = [secrets.choice([0, 1]) for _ in range(k)]\n",
    "\n",
    "\n",
    "def pairwise_hash(i, seed):\n",
    "    if i == 0 or i > 2 ** k - 1:\n",
    "        raise ValueError(\"i should be in range [0, 2 ** k - 1]\")\n",
    "\n",
    "    output_bit = 0\n",
    "    binary_i = bin(i)[2:].zfill(k)\n",
    "\n",
    "    for j in range(k):\n",
    "        if binary_i[j] == '1':\n",
    "            output_bit ^= seed[j]  # XOR operator in python\n",
    "\n",
    "    return 1 if output_bit == 1 else -1"
   ],
   "outputs": [],
   "execution_count": 4
  },
  {
   "cell_type": "markdown",
   "id": "fd8cf197e40df737",
   "metadata": {},
   "source": [
    "## Explanation of the Data Streaming Cell\n",
    "\n",
    "This Python code defines a generator function, `stream_data_from_file`, designed to read numbers from a text file in a memory-efficient way. The function definition itself is placed within a `for` loop that repeats twenty times.\n",
    "\n",
    "### Core Functionality: `stream_data_from_file`\n",
    "\n",
    "The primary purpose of this function is to act as a data stream generator. Instead of loading the entire file into memory, it reads and yields one number at a time.\n",
    "\n",
    "* **Generator-Based Approach**: The function uses the `yield` keyword, which turns it into a generator. This allows it to produce a sequence of values lazily, pausing its state between each value and resuming upon the next request. This is ideal for processing very large files with constant memory usage.\n",
    "\n",
    "* **Safe File Handling**: It uses the `with open(...)` statement to open the file. This is a best practice in Python as it ensures that the file is automatically and safely closed when the block is exited, even if errors occur.\n",
    "\n",
    "* **Data Processing and Cleaning**: For each line in the file, the `.strip()` method is called to remove any leading or trailing whitespace (including newline characters). The cleaned line is then converted to an integer via `int()`. The `if cleaned_line:` check ensures that empty lines in the file are skipped.\n",
    "\n",
    "* **Error Handling**: The function is wrapped in a `try...except` block to gracefully handle two common issues:\n",
    "    * `FileNotFoundError`: Catches cases where the specified `filepath` does not exist.\n",
    "    * `ValueError`: Catches cases where a line in the file contains text that cannot be converted to an integer."
   ]
  },
  {
   "cell_type": "code",
   "id": "78067afaca5e9f36",
   "metadata": {
    "ExecuteTime": {
     "end_time": "2025-08-22T20:09:30.316330Z",
     "start_time": "2025-08-22T20:09:30.305666Z"
    }
   },
   "source": [
    "def stream_data_from_file(filepath):\n",
    "\n",
    "    try:\n",
    "        with open(filepath, 'r') as file:\n",
    "            for line in file:\n",
    "                cleaned_line = line.strip()\n",
    "                if cleaned_line:\n",
    "                    number = int(cleaned_line)\n",
    "                    yield number\n",
    "    except FileNotFoundError:\n",
    "        print(f\" Error : file not found in: {filepath}\")\n",
    "    except ValueError:\n",
    "        print(f\" Error: A line is missing in the file.\")\n"
   ],
   "outputs": [],
   "execution_count": 5
  },
  {
   "cell_type": "markdown",
   "id": "1ae609ad4f4e83b5",
   "metadata": {},
   "source": [
    "## Explanation of the Final Experiment Code\n",
    "\n",
    "This Python script executes the core experiment of the assignment. Its main purpose is to empirically compare the performance of three different random hashing strategies (pairwise, 4-wise, and a simulation of full independence) for estimating the second frequency moment ($F_2$) of a data stream.\n",
    "\n",
    "The experiment is repeated 20 times to allow for an averaged and more stable comparison of the methods.\n",
    "\n",
    "### 1. Setup and Initialization\n",
    "\n",
    "```python\n",
    "file_path = \"/datasets/zipf.4.0.txt\"\n",
    "\n",
    "twoWiseTrial = []\n",
    "fourWiseTrial = []\n",
    "completelyWiseTrial = []\n",
    "```\n",
    "\n",
    "* **`file_path`**: This variable stores the location of the dataset that will be used as the data stream.\n",
    "* **`...Trial` Lists**: These three lists are initialized to store the final $F_2$ estimate from each of the 20 trials for the three respective methods.\n",
    "\n",
    "### 2. The Main Experiment Loop\n",
    "\n",
    "```python\n",
    "for _ in range(20):\n",
    "    # ... code for one trial ...\n",
    "```\n",
    "\n",
    "This outer loop runs the entire estimation process 20 times. This is crucial for obtaining a reliable result, as a single run of the AMS algorithm can have high variance. By averaging the results of these 20 independent trials, we can get a much better sense of each method's typical accuracy.\n",
    "\n",
    "### 3. A Single Trial Workflow\n",
    "\n",
    "Inside the main loop, the following steps are executed for each trial:\n",
    "\n",
    "* **Data Stream Creation**: `data_stream = stream_data_from_file(file_path)`\n",
    "    A fresh data stream generator is created from the source file for each run.\n",
    "\n",
    "* **Hash Function Initialization**:\n",
    "    ```python\n",
    "    completely_independent_bits = StatelessConsistentHash()\n",
    "    fourWise_independent_bits = FourWiseHashFunction(100)\n",
    "    # The pairwise hash uses a seed defined elsewhere in the code\n",
    "    ```\n",
    "    New instances of the hash functions are created for each trial. This is important because it ensures that each of the 20 trials uses a new, independent set of random seeds/polynomials.\n",
    "\n",
    "* **Counter Initialization**: The accumulator variables `x_twoWiseIndependent`, `x_fourWiseIndependent`, and `x_completelyIndependent` are reset to `0`.\n",
    "\n",
    "### 4. Stream Processing\n",
    "\n",
    "```python\n",
    "for num in data_stream:\n",
    "    x_twoWiseIndependent += pairwise_hash(num, seed)\n",
    "    x_fourWiseIndependent += fourWise_independent_bits.hash(num)\n",
    "    x_completelyIndependent += completely_independent_bits.hash(num)\n",
    "```\n",
    "\n",
    "This inner loop iterates through the data stream. For each number, it calls the corresponding hash function for each of the three methods and adds the resulting $\\sigma$ value (`+1` or `-1`) to the respective accumulator (`x`).\n",
    "\n",
    "### 5. Storing the Result of the Trial\n",
    "\n",
    "```python\n",
    "twoWiseTrial.append(x_twoWiseIndependent ** 2)\n",
    "fourWiseTrial.append(x_fourWiseIndependent ** 2)\n",
    "completelyWiseTrial.append(x_completelyIndependent ** 2)\n",
    "```\n",
    "\n",
    "After the entire stream has been processed, the final value of each accumulator `x` is squared to get the $F_2$ estimate for that trial. This estimate is then appended to the corresponding list, storing it for final analysis after all 20 trials are complete. The `average` function defined at the end would then be used on these lists to find the average estimate for each method."
   ]
  },
  {
   "cell_type": "code",
   "id": "b56de39f061dac14",
   "metadata": {
    "ExecuteTime": {
     "end_time": "2025-08-22T20:09:32.126381Z",
     "start_time": "2025-08-22T20:09:30.322232Z"
    }
   },
   "source": [
    "file_path = \"/datasets/zipf.4.0.txt\"\n",
    "\n",
    "twoWiseTrial = []\n",
    "fourWiseTrial = []\n",
    "completlyWiseTrial = []\n",
    "\n",
    "for _ in range(20):\n",
    "\n",
    "    data_stream = stream_data_from_file(file_path)\n",
    "\n",
    "    completly_independent_bits = StatelessConsistentHash()\n",
    "    fourWise_independent_bits = FourWiseHashFunction(int(100))\n",
    "\n",
    "    x_twoWiseIndependent = 0\n",
    "    x_fourWiseIndependent = 0\n",
    "    x_completlyIndependent = 0\n",
    "\n",
    "    for num in data_stream:\n",
    "        x_twoWiseIndependent += pairwise_hash(num, seed)\n",
    "        x_fourWiseIndependent += fourWise_independent_bits.hash(num)\n",
    "        x_completlyIndependent += completly_independent_bits.hash(num)\n",
    "\n",
    "    twoWiseTrial.append(x_twoWiseIndependent ** 2)\n",
    "    fourWiseTrial.append(x_fourWiseIndependent ** 2)\n",
    "    completlyWiseTrial.append(x_completlyIndependent ** 2)\n",
    "\n",
    "\n",
    "def average(list):\n",
    "    return sum(list) / len(list)"
   ],
   "outputs": [
    {
     "name": "stdout",
     "output_type": "stream",
     "text": [
      " finit field GF , a0 = 90. a1 = 68, a2 = 40. a3 = 62\n",
      " Error : file not found in: /datasets/zipf.4.0.txt\n",
      " finit field GF , a0 = 21. a1 = 52, a2 = 7. a3 = 91\n",
      " Error : file not found in: /datasets/zipf.4.0.txt\n",
      " finit field GF , a0 = 61. a1 = 36, a2 = 18. a3 = 64\n",
      " Error : file not found in: /datasets/zipf.4.0.txt\n",
      " finit field GF , a0 = 40. a1 = 71, a2 = 50. a3 = 41\n",
      " Error : file not found in: /datasets/zipf.4.0.txt\n",
      " finit field GF , a0 = 82. a1 = 83, a2 = 85. a3 = 20\n",
      " Error : file not found in: /datasets/zipf.4.0.txt\n",
      " finit field GF , a0 = 29. a1 = 41, a2 = 27. a3 = 99\n",
      " Error : file not found in: /datasets/zipf.4.0.txt\n",
      " finit field GF , a0 = 77. a1 = 74, a2 = 54. a3 = 50\n",
      " Error : file not found in: /datasets/zipf.4.0.txt\n",
      " finit field GF , a0 = 52. a1 = 62, a2 = 10. a3 = 22\n",
      " Error : file not found in: /datasets/zipf.4.0.txt\n",
      " finit field GF , a0 = 91. a1 = 61, a2 = 53. a3 = 30\n",
      " Error : file not found in: /datasets/zipf.4.0.txt\n",
      " finit field GF , a0 = 48. a1 = 6, a2 = 28. a3 = 39\n",
      " Error : file not found in: /datasets/zipf.4.0.txt\n",
      " finit field GF , a0 = 61. a1 = 89, a2 = 79. a3 = 5\n",
      " Error : file not found in: /datasets/zipf.4.0.txt\n",
      " finit field GF , a0 = 26. a1 = 71, a2 = 55. a3 = 33\n",
      " Error : file not found in: /datasets/zipf.4.0.txt\n",
      " finit field GF , a0 = 75. a1 = 33, a2 = 6. a3 = 6\n",
      " Error : file not found in: /datasets/zipf.4.0.txt\n",
      " finit field GF , a0 = 36. a1 = 14, a2 = 75. a3 = 6\n",
      " Error : file not found in: /datasets/zipf.4.0.txt\n",
      " finit field GF , a0 = 72. a1 = 39, a2 = 39. a3 = 37\n",
      " Error : file not found in: /datasets/zipf.4.0.txt\n",
      " finit field GF , a0 = 26. a1 = 43, a2 = 12. a3 = 22\n",
      " Error : file not found in: /datasets/zipf.4.0.txt\n",
      " finit field GF , a0 = 71. a1 = 58, a2 = 23. a3 = 19\n",
      " Error : file not found in: /datasets/zipf.4.0.txt\n",
      " finit field GF , a0 = 15. a1 = 27, a2 = 85. a3 = 100\n",
      " Error : file not found in: /datasets/zipf.4.0.txt\n",
      " finit field GF , a0 = 75. a1 = 22, a2 = 84. a3 = 13\n",
      " Error : file not found in: /datasets/zipf.4.0.txt\n",
      " finit field GF , a0 = 16. a1 = 92, a2 = 41. a3 = 36\n",
      " Error : file not found in: /datasets/zipf.4.0.txt\n"
     ]
    }
   ],
   "execution_count": 6
  },
  {
   "cell_type": "code",
   "id": "45a81743b05bc04c",
   "metadata": {
    "ExecuteTime": {
     "end_time": "2025-08-22T20:09:32.243182Z",
     "start_time": "2025-08-22T20:09:32.231382Z"
    }
   },
   "source": [
    "data_stream = stream_data_from_file(file_path)\n",
    "\n",
    "frequencies = defaultdict(int)\n",
    "for number in data_stream:\n",
    "    frequencies[number] += 1\n",
    "\n",
    "print(f\"item frequencies : {dict(frequencies)}\")\n",
    "\n",
    "real_F2 = 0\n",
    "for count in frequencies.values():\n",
    "    real_F2 += count ** 2"
   ],
   "outputs": [
    {
     "name": "stdout",
     "output_type": "stream",
     "text": [
      " Error : file not found in: /datasets/zipf.4.0.txt\n",
      "item frequencies : {}\n"
     ]
    }
   ],
   "execution_count": 7
  },
  {
   "cell_type": "code",
   "id": "bb4c38de871ab4a1",
   "metadata": {
    "ExecuteTime": {
     "end_time": "2025-08-22T20:09:32.317867Z",
     "start_time": "2025-08-22T20:09:32.295918Z"
    }
   },
   "source": [
    "print(f\" tow wise independent : {average(twoWiseTrial)}\")\n",
    "print(f\" four wise independent : {average(fourWiseTrial)}\")\n",
    "print(f\" completly independent : {average(completlyWiseTrial)}\")\n",
    "print(f\"real F2 : {real_F2}\")"
   ],
   "outputs": [
    {
     "name": "stdout",
     "output_type": "stream",
     "text": [
      " tow wise independent : 0.0\n",
      " four wise independent : 0.0\n",
      " completly independent : 0.0\n",
      "real F2 : 0\n"
     ]
    }
   ],
   "execution_count": 8
  },
  {
   "metadata": {
    "ExecuteTime": {
     "end_time": "2025-08-22T20:09:32.384465Z",
     "start_time": "2025-08-22T20:09:32.359354Z"
    }
   },
   "cell_type": "code",
   "source": [
    "headers = [ \"name file\", \"F2: Two Wise Independent\", \"F2: Four Wise Independent\",\n",
    "            \"F2: Completly Independent\", \"F2 :Real F2\", \"n_parameter in Four wise class :\",\n",
    "            \"k parameter in Two wise function :\"]\n",
    "data = [[\"zipf.1.5.\", \"4155349444.0\", \"1894836613.0\", \"1456452010.0\", \"1772040544\", \"1000000000\", \"30\" ],\n",
    "        [\"zipf.2.0.\", \"5712034084.0\", \"3881677450.0\", \"3690387011.8\", \"4001451216\", \"100000\", \"20\" ],\n",
    "        [\"zipf.2.\", \"2935689124.0\", \"5037947196.8\", \"4855460405.4\", \"4001256520\", \"100000\", \"15\" ],\n",
    "        [\"zipf.3.0.\", \"8299574404.0\", \"6999677815.6\", \"7104513458.4\", \"7015960234\", \"1000\", \"10\"],\n",
    "        [\"zipf.4.0.\", \"9463009284.0\", \"8407260579.6\", \"8827142045.2\", \"8578303586\", \"100\", \"7\" ]]\n",
    "print(tabulate(data, headers, tablefmt=\"fancy_grid\"))\n",
    "print(\"\\n\")"
   ],
   "id": "ebb3e71ed391c6d0",
   "outputs": [
    {
     "name": "stdout",
     "output_type": "stream",
     "text": [
      "╒═════════════╤════════════════════════════╤═════════════════════════════╤═════════════════════════════╤═══════════════╤════════════════════════════════════╤══════════════════════════════════════╕\n",
      "│ name file   │   F2: Two Wise Independent │   F2: Four Wise Independent │   F2: Completly Independent │   F2 :Real F2 │   n_parameter in Four wise class : │   k parameter in Two wise function : │\n",
      "╞═════════════╪════════════════════════════╪═════════════════════════════╪═════════════════════════════╪═══════════════╪════════════════════════════════════╪══════════════════════════════════════╡\n",
      "│ zipf.1.5.   │                4.15535e+09 │                 1.89484e+09 │                 1.45645e+09 │    1772040544 │                         1000000000 │                                   30 │\n",
      "├─────────────┼────────────────────────────┼─────────────────────────────┼─────────────────────────────┼───────────────┼────────────────────────────────────┼──────────────────────────────────────┤\n",
      "│ zipf.2.0.   │                5.71203e+09 │                 3.88168e+09 │                 3.69039e+09 │    4001451216 │                             100000 │                                   20 │\n",
      "├─────────────┼────────────────────────────┼─────────────────────────────┼─────────────────────────────┼───────────────┼────────────────────────────────────┼──────────────────────────────────────┤\n",
      "│ zipf.2.     │                2.93569e+09 │                 5.03795e+09 │                 4.85546e+09 │    4001256520 │                             100000 │                                   15 │\n",
      "├─────────────┼────────────────────────────┼─────────────────────────────┼─────────────────────────────┼───────────────┼────────────────────────────────────┼──────────────────────────────────────┤\n",
      "│ zipf.3.0.   │                8.29957e+09 │                 6.99968e+09 │                 7.10451e+09 │    7015960234 │                               1000 │                                   10 │\n",
      "├─────────────┼────────────────────────────┼─────────────────────────────┼─────────────────────────────┼───────────────┼────────────────────────────────────┼──────────────────────────────────────┤\n",
      "│ zipf.4.0.   │                9.46301e+09 │                 8.40726e+09 │                 8.82714e+09 │    8578303586 │                                100 │                                    7 │\n",
      "╘═════════════╧════════════════════════════╧═════════════════════════════╧═════════════════════════════╧═══════════════╧════════════════════════════════════╧══════════════════════════════════════╛\n",
      "\n",
      "\n"
     ]
    }
   ],
   "execution_count": 9
  }
 ],
 "metadata": {
  "kernelspec": {
   "display_name": "Python 3 (ipykernel)",
   "language": "python",
   "name": "python3"
  },
  "language_info": {
   "codemirror_mode": {
    "name": "ipython",
    "version": 3
   },
   "file_extension": ".py",
   "mimetype": "text/x-python",
   "name": "python",
   "nbconvert_exporter": "python",
   "pygments_lexer": "ipython3",
   "version": "3.10.6"
  }
 },
 "nbformat": 4,
 "nbformat_minor": 5
}
